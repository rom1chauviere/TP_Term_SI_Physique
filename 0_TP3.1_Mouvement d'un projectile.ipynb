{
 "cells": [
  {
   "cell_type": "markdown",
   "metadata": {},
   "source": [
    "# <center>Mouvement d'un projectile</center>\n",
    "\n",
    "\n",
    "\n",
    "<div class=\"alert alert-info\" role=\"alert\">\n",
    "Un notebook Jupyter est composé de deux types de cellules :<br>\n",
    "<ul><li> des cellules contenant du <b>texte</b> qu'il est nécessaire <b>de lire pour suivre correctement les consignes</b> ;</li><br>\n",
    "<li>des cellules contenant du <b>code Python</b> qu'il est nécessaire <b>d'éxécuter dans l'ordre d'apparition</b>.</li></ul><br>\n",
    "<br>\n",
    "<b>Pour exécuter une cellule sélectionnée</b> (encadrée en vert), il faut cliquer :<br>\n",
    "<ul><li>sur le bouton \"Exécuter\" situé à côté de la cellule<br><img src=\"Jupyter_Executer.bis.jpg\"></li><br>\n",
    "<li>ou sur le bouton \"Exécuter\" dans le bandeau supérieur.\n",
    "<br>\n",
    "<center><img src=\"Jupyter_Executer.jpg\"></center><br></li></ul>\n",
    "</div>\n",
    "<div class=\"alert alert-warning\">\n",
    "<b>Travail à faire : </b> Exécuter cette ligne de code en suivant les indications ci-dessus. Du texte est affecté à la variable \"a\".\n",
    "</div>"
   ]
  },
  {
   "cell_type": "code",
   "execution_count": null,
   "metadata": {},
   "outputs": [],
   "source": [
    "a=\"Hello World\""
   ]
  },
  {
   "cell_type": "markdown",
   "metadata": {},
   "source": [
    "<div class=\"alert alert-info\" role=\"alert\">\n",
    "Sur la gauche d'une cellule contenant du code Python, il y a l'indication <b>Entrée [&#160;&#160;]</b><br>\n",
    "<ul><li><b>Entrée [&#160;&#160;]</b> signifie que la cellule n'a pas été exécutée ;</li><br>\n",
    "<li><b>Entrée [*]</b> signifie que la cellule est en cours d'exécution. Soit il faut une action de votre part (saisie d'une valeur dans un <b>Input</b>, soit il faut donc patienter quelques secondes pour que tout le code s'exécute) ;</li><br>\n",
    "<li><b>Entrée [1]</b> signifie que la cellule a été exécutée au rang 1.</li></ul><br>\n",
    "<br>\n",
    "</div>\n",
    "<div class=\"alert alert-warning\">\n",
    "<b>Travail à faire : </b> Exécuter cette ligne de code qui permet d'afficher la valeur de la variable \"a\".\n",
    "</div>"
   ]
  },
  {
   "cell_type": "code",
   "execution_count": null,
   "metadata": {},
   "outputs": [],
   "source": [
    "print(a)"
   ]
  },
  {
   "cell_type": "markdown",
   "metadata": {},
   "source": [
    "<div class=\"alert alert-success\" role=\"alert\">\n",
    "<details>\n",
    "<summary><b>A LIRE (en cliquant sur la flèche à gauche)</b>: Explications pour sauvegarder vos modifications au fur et à mesure.</summary>\n",
    "<p>En cas d'inactivité prolongé (entre 5 et 10 min), le notebook Jupyter sera déconnecté.<br>\n",
    "<img src=\"Jupyter_deconnected.jpg\"><br>\n",
    "Pour éviter de perdre vos modifications de code, enregistrez régulièrement votre notebook dans votre navigateur.<br>\n",
    "<img src=\"Jupyter_save.jpg\"><br>\n",
    "Le message suivant s'affiche :\n",
    "<img src=\"Jupyter_save_2.jpg\"><br>\n",
    "En cas de déconnexion, vous devez réouvrir votre notebook puis vous pouvez charger votre sauvegarde.<br>\n",
    "<img src=\"Jupyter_open.jpg\"><br>\n",
    "Le message suivant s'affiche et vous devez cliquer sur \"OK\" :\n",
    "<img src=\"Jupyter_open_2.jpg\"><br>\n",
    "Vous devez exécuter toutes les cellules modifiées depuis le début. Pour le faire rapidement, il faut cliquer sur \"Restart & Run all\" dans le menu Kernel.<br>\n",
    "<img src=\"Jupyter_restart.jpg\"><br></p>\n",
    "Le message suivant s'affiche et vous devez cliquer sur \"Restart & Run All Cells\" :\n",
    "<img src=\"Jupyter_restart_2.jpg\"><br>\n",
    "</details>\n",
    "</div>\n",
    "\n",
    "<div class=\"alert alert-danger\" role=\"alert\">\n",
    "<center><font size=\"5\">Ne modifier que la partie du code contenant ---A COMPLETER---</font></center>\n",
    "</div>"
   ]
  },
  {
   "cell_type": "markdown",
   "metadata": {},
   "source": [
    "## I-S'approprier\n",
    "\n",
    "On étudie le mouvement d'un projectile de masse m = 12,5 kg modélisé par un point M.<br>\n",
    "Son mouvement est filmé à l’aide d’une caméra fixe dans le référentiel terrestre.<br>\n",
    "À partir du pointage de la vidéo, on obtient une chronophotographie. La durée ∆t entre deux positions successives du point M vaut 250 ms.<br>\n",
    "\n",
    "\n",
    "<div class=\"alert alert-success\" role=\"alert\">\n",
    "Exécuter le bloc ci-dessous. (Aucune compréhension du code n'est demandée)</div>"
   ]
  },
  {
   "cell_type": "code",
   "execution_count": null,
   "metadata": {},
   "outputs": [],
   "source": [
    "import matplotlib.pyplot as plt\n",
    "\n",
    "\"\"\"\n",
    "Fonction générant le nuage de points \"ordonnée en fonction d'abscisse\"\n",
    "Entrées : coordonnées des abscisses, coordonnées des ordonnées, titre abscisse, titre ordonnée, titre graphique\n",
    "Résultat : nuage de points \"ordonnée en fonction d'abscisse\" ou \"ordonnée = f(abscisse)\" avec affichage du point Mi\n",
    "\"\"\"\n",
    "def nuagedepoints(abscisses,ordonnees,abscisse_title,ordonnee_title,title):\n",
    "    fig = plt.figure(figsize=(10,10))\n",
    "                            # taille de l'affichage du graphique\n",
    "    ax = fig.add_subplot(1, 1, 1)\n",
    "    ax.plot(abscisses, ordonnees, linestyle=\"none\" ,marker=\"x\" ,color=\"red\", markersize=\"10\",label=\"nuage de points\")\n",
    "                            # nuage de points,'none' points non reliés,'x' forme des points (o,-,+,s)\n",
    "                            # 'red' couleur (blue, green, cyan, magenta, yellow, black)\n",
    "                            # '10' taille des points\n",
    "                            # affiche la légende\n",
    "    ax.axis('equal')       # repère orthonormé\n",
    "                            # boucle générant l'écriture \"Mi\" à proximité du point correspondant\n",
    "    df=max(max(abscisses)-min(abscisses),max(ordonnees)-min(ordonnees))/20\n",
    "    for i in range(len(abscisses)):\n",
    "        numero=str(i)\n",
    "        table = str.maketrans({str(j):chr(0x2080 + j) for j in range(10)})\n",
    "        indice=numero.translate(table) \n",
    "        plt.text(abscisses[i],ordonnees[i]+df,'M'+indice,color='black', fontsize=20,horizontalalignment='center', verticalalignment='center')\n",
    "    plt.xlabel(abscisse_title,ha='right',fontstyle='italic',x=1.0)\n",
    "    plt.ylabel(ordonnee_title,fontstyle='italic',rotation=0,ha='right',va='top',y=1.0)\n",
    "    plt.arrow(0, 0 ,0.9, 0,head_width=0.1, head_length=0.1,fc='red', ec='red')\n",
    "    plt.arrow(0,0,0,0.9,head_width=0.1, head_length=0.1,fc='red', ec='red')\n",
    "    plt.annotate(r\"$\\vec i$\",xy=(0.5,0),xytext=(0.5,-0.3),color='red', fontsize=20)\n",
    "    plt.annotate(r\"$\\vec j$\",xy=(0,0.5),xytext=(-0.2,0.5),color='red', fontsize=20)\n",
    "    ax.spines['right'].set_color('none')\n",
    "    ax.spines['top'].set_color('none')\n",
    "    ax.xaxis.set_ticks_position('bottom')\n",
    "    ax.spines['bottom'].set_position(('data',0))\n",
    "    ax.yaxis.set_ticks_position('left')\n",
    "    ax.spines['left'].set_position(('data',0))\n",
    "    #plt.legend()            # affiche la légende\n",
    "    plt.title(title)        # affiche un titre\n",
    "\n",
    "    \n",
    "'''Coordonnées issues du pointage de la vidéo'''\n",
    "t=[0, 0.25, 0.5, 0.75, 1.0]\n",
    "x=[0, 1.057, 2.114, 3.171, 4.228]\n",
    "y=[1.8, 2.54, 2.69, 2.22, 1.14]\n",
    "\n",
    "'''Tracé de la chronophotographie'''\n",
    "nuagedepoints(x,y,'x (en m)','y (en m)','')\n",
    "plt.show()"
   ]
  },
  {
   "cell_type": "markdown",
   "metadata": {},
   "source": [
    "<div class=\"alert alert-success\" role=\"alert\">\n",
    "Exécuter le bloc ci-dessous aprés avoir lu la description de la fonction (les 3 lignes en rouges).\n",
    "</div>"
   ]
  },
  {
   "cell_type": "code",
   "execution_count": null,
   "metadata": {},
   "outputs": [],
   "source": [
    "\"\"\"\n",
    "Fonction générant la représentation du vecteur position au point Mi\n",
    "Entrées : coordonnées des abscisses du point M, coordonnées des ordonnées du point M, dates t, valeur de i\n",
    "Résultat : vecteur position OMi\n",
    "\"\"\"\n",
    "\n",
    "def vecteur_position (abscisses,ordonnees,dates,value_i):\n",
    "    echelle=1\n",
    "    x=abscisses\n",
    "    y=ordonnees\n",
    "    i=value_i\n",
    "    plt.quiver(0,0,x[i], y[i],scale_units='xy',angles='xy', scale=echelle, color='magenta')\n",
    "    numero=str(i)\n",
    "    table = str.maketrans({str(j):chr(0x2080 + j) for j in range(10)})\n",
    "    indice=numero.translate(table)\n",
    "    df=max(max(x)-min(x),max(y)-min(y))/20\n",
    "    plt.text(x[i]/(2*echelle)-0.6*df,y[i]/(2*echelle)+df,r\"$\\overrightarrow{OM}$\"+indice, color='magenta',fontsize=20,\\\n",
    "    horizontalalignment='center', verticalalignment='center')"
   ]
  },
  {
   "cell_type": "markdown",
   "metadata": {},
   "source": [
    "<div class=\"alert alert-warning\">\n",
    "<b>Travail à faire : </b> Compléter les lignes de code ci-dessous, en tenant compte des paramètres de la fonction <font color=red><i>vecteur_position</i></font>, pour afficher la représentation des vecteurs positions $\\overrightarrow{OM_1}$ et $\\overrightarrow{OM_2}$.\n",
    "<br>\n",
    "<br>\n",
    "<details>\n",
    "<summary>Aide n°1</summary>\n",
    "<p>Les coordonnées des abscisses sont stockées dans une liste nommée $x$.Les coordonnées des ordonnées sont stockées dans une liste nommée $y$.</p>\n",
    "</details>\n",
    "<br>\n",
    "<details>\n",
    "<summary>Aide n°2</summary>\n",
    "<p>Les dates sont stockées dans une liste nommée $t$.</p>\n",
    "</details>\n",
    "<br>\n",
    "<details>\n",
    "<summary>Aide n°3</summary>\n",
    "    <p>Pour le vecteur position $\\overrightarrow{OM_1}$, la valeur de i vaut $1$. </p>\n",
    "</details>\n",
    "<br>\n",
    "</div>\n"
   ]
  },
  {
   "cell_type": "code",
   "execution_count": null,
   "metadata": {},
   "outputs": [],
   "source": [
    "nuagedepoints(x,y,'x (en m)','y (en m)','')\n",
    "vecteur_position (---A COMPLETER---)\n",
    "vecteur_position (---A COMPLETER---)\n",
    "plt.show()"
   ]
  },
  {
   "cell_type": "markdown",
   "metadata": {},
   "source": [
    "<div class=\"alert alert-success\" role=\"alert\">\n",
    "Exécuter le bloc ci-dessous pour afficher les coordonnées cartésiennes des vecteurs positions $\\overrightarrow{OM_1}$ et $\\overrightarrow{OM_2}$. (Aucune compréhension du code n'est demandée, sauf si vous êtes curieux)\n",
    "</div>"
   ]
  },
  {
   "cell_type": "code",
   "execution_count": null,
   "metadata": {},
   "outputs": [],
   "source": [
    "%%latex\n",
    "$\\overrightarrow{OM_1} \\begin{pmatrix}x(t_1)=1,06\\ m\\\\y(t_1)=2,54\\ m\\\\z(t_1)=0\\ m\\end{pmatrix} \\\\ \n",
    "\\ \\\\\n",
    "\\overrightarrow{OM_2} \\begin{pmatrix}x(t_2)=2,11\\ m\\\\y(t_2)=2,69\\ m\\\\z(t_2)=0\\ m\\end{pmatrix}$ "
   ]
  },
  {
   "cell_type": "markdown",
   "metadata": {},
   "source": [
    "<div class=\"alert alert-success\" role=\"alert\">\n",
    "Exécuter le bloc ci-dessous pour afficher la représentation du vecteur déplacement $\\overrightarrow{M_1M_2}$. (Aucune compréhension du code n'est demandée)\n",
    "</div>"
   ]
  },
  {
   "cell_type": "code",
   "execution_count": null,
   "metadata": {},
   "outputs": [],
   "source": [
    "num=1\n",
    "echelle=1\n",
    "nuagedepoints(x,y,'x (en m)','y (en m)','')\n",
    "df=max(max(x)-min(x),max(y)-min(y))/20\n",
    "plt.quiver(x[num],y[num],x[num+1]-x[num], y[num+1]-y[num],scale_units='xy',angles='xy', scale=echelle, color='blue',width=0.005)\n",
    "plt.text((x[num]+x[num+1])/(2*echelle),(y[num]+y[num+1])/(2*echelle)+df,r'$\\overrightarrow{M_{1}M_{2}}$', color='blue',fontsize=20,\\\n",
    "horizontalalignment='center', verticalalignment='center')\n",
    "plt.show()"
   ]
  },
  {
   "cell_type": "markdown",
   "metadata": {},
   "source": [
    "<div class=\"alert alert-success\" role=\"alert\">\n",
    "Exécuter le bloc ci-dessous pour afficher les coordonnées cartésiennes du vecteur déplacement $\\overrightarrow{M_1M_2}$. (Aucune compréhension du code n'est demandée, sauf si vous êtes curieux)\n",
    "</div>"
   ]
  },
  {
   "cell_type": "code",
   "execution_count": null,
   "metadata": {},
   "outputs": [],
   "source": [
    "%%latex\n",
    "$\\overrightarrow{M_1M_2}=\\overrightarrow{OM_2}-\\overrightarrow{OM_1} \\\\\n",
    "\\ \\\\\n",
    "\\overrightarrow{M_1M_2}= \\begin{pmatrix}x(t_2)-x(t_1) = 1,05\\ m\\\\y(t_2)-y(t_1) = 0,15\\ m\\\\z(t_2)-z(t_1)=0\\ m\\end{pmatrix}$"
   ]
  },
  {
   "cell_type": "markdown",
   "metadata": {},
   "source": [
    "## II-Réaliser\n",
    "\n",
    "<div class=\"alert alert-success\" role=\"alert\">\n",
    "Exécuter le bloc ci-dessous aprés avoir lu la description de la fonction (les 3 lignes en rouges).</div>"
   ]
  },
  {
   "cell_type": "code",
   "execution_count": null,
   "metadata": {},
   "outputs": [],
   "source": [
    "\"\"\"\n",
    "Fonction calculant les coordonnées du vecteur vitesse instantanée approchée au point Mi\n",
    "Entrées : coordonnées des abscisses du point M, coordonnées des ordonnées du point M, dates t, valeur de i\n",
    "Résultat : coordonnées du vecteur vitesse instantanée approchée au point Mi\n",
    "\"\"\"\n",
    "def coordonnees_vecteur_vitesse_approchee (abscisses,ordonnees,dates,value_i):\n",
    "    x=abscisses\n",
    "    y=ordonnees\n",
    "    t=dates\n",
    "    i=value_i\n",
    "    vx=(x[i+1]-x[i])/(t[i+1]-t[i])\n",
    "    vy=(y[i+1]-y[i])/(t[i+1]-t[i])\n",
    "    return[vx,vy]"
   ]
  },
  {
   "cell_type": "markdown",
   "metadata": {},
   "source": [
    "<div class=\"alert alert-warning\">\n",
    "<b>Travail à faire : </b> Compléter les lignes de code ci-dessous, en tenant compte des paramètres de la fonction <font color=red><i>coordonnees_vecteur_vitesse_approchee</i></font>, pour afficher les coordonnées du vecteur vitesse instantanée approchée $\\overrightarrow{v_1}$.\n",
    "<br>\n",
    "<br>\n",
    "<details>\n",
    "<summary>Aide n°1</summary>\n",
    "<p>Les coordonnées des abscisses sont stockées dans une liste nommée $x$.Les coordonnées des ordonnées sont stockées dans une liste nommée $y$.</p>\n",
    "</details>\n",
    "<br>\n",
    "<details>\n",
    "<summary>Aide n°2</summary>\n",
    "<p>Les dates sont stockées dans une liste nommée $t$.</p>\n",
    "</details>\n",
    "<br>\n",
    "<details>\n",
    "<summary>Aide n°3</summary>\n",
    "    <p>Pour le vecteur vitesse instantanée approchée $\\overrightarrow{v_1}$, la valeur de i vaut $1$. </p>\n",
    "</details>\n",
    "<br>\n",
    "</div>\n"
   ]
  },
  {
   "cell_type": "code",
   "execution_count": null,
   "metadata": {},
   "outputs": [],
   "source": [
    "vx=coordonnees_vecteur_vitesse_approchee(---A COMPLETER---)[0]\n",
    "vy=coordonnees_vecteur_vitesse_approchee(---A COMPLETER---)[1]\n",
    "\n",
    "print(\"Au point M1, les coordonnées du vecteur vitesse instantanée approchée sont :\")\n",
    "print(\"vx(t1) =\",\"{:.1f}\".format(vx),\" m/s.\" )\n",
    "print(\"vy(t1) =\",\"{:.1f}\".format(vy),\" m/s.\" )"
   ]
  },
  {
   "cell_type": "markdown",
   "metadata": {},
   "source": [
    "<div class=\"alert alert-warning\">\n",
    "<b>Travail à faire : </b> Copier-coller l'ensemble du code de la celulle précédente et modifier-le pour afficher les coordonnées du vecteur vitesse instantanée approchée $\\overrightarrow{v_2}$.\n",
    "<br>\n",
    "<br>\n",
    "<details>\n",
    "<summary>Aide</summary>\n",
    "    <p>Pour le vecteur vitesse instantanée approchée $\\overrightarrow{v_2}$, la valeur de i vaut $2$. </p>\n",
    "</details>\n",
    "<br>\n",
    "</div>\n"
   ]
  },
  {
   "cell_type": "code",
   "execution_count": null,
   "metadata": {},
   "outputs": [],
   "source": [
    "---A COMPLETER---"
   ]
  },
  {
   "cell_type": "markdown",
   "metadata": {},
   "source": [
    "<div class=\"alert alert-success\" role=\"alert\">\n",
    "Exécuter le bloc ci-dessous aprés avoir lu la description de la fonction (les 3 lignes en rouges).</div>"
   ]
  },
  {
   "cell_type": "code",
   "execution_count": null,
   "metadata": {},
   "outputs": [],
   "source": [
    "\"\"\"\n",
    "Fonction calculant les coordonnées du vecteur variation de vitesse entre les points Mi et M(i+1)\n",
    "Entrées : coordonnées des abscisses du point M, coordonnées des ordonnées du point M, dates t, valeur de i\n",
    "Résultat : coordonnées du vecteur variation de vitesse au point Mi\n",
    "\"\"\"\n",
    "def coordonnees_vecteur_variation_vitesse (abscisses,ordonnees,dates,value_i):\n",
    "    x=abscisses\n",
    "    y=ordonnees\n",
    "    t=dates\n",
    "    i=value_i\n",
    "    vx_i=(x[i+1]-x[i])/(t[i+1]-t[i])\n",
    "    vy_i=(y[i+1]-y[i])/(t[i+1]-t[i])\n",
    "    i=i+1\n",
    "    vx_j=(x[i+1]-x[i])/(t[i+1]-t[i])\n",
    "    vy_j=(y[i+1]-y[i])/(t[i+1]-t[i])\n",
    "    return[vx_j-vx_i,vy_j-vy_i]"
   ]
  },
  {
   "cell_type": "markdown",
   "metadata": {},
   "source": [
    "<div class=\"alert alert-warning\">\n",
    "<b>Travail à faire : </b> Compléter les lignes de code ci-dessous, en tenant compte des paramètres de la fonction <font color=red><i>coordonnees_vecteur_variation_vitesse</i></font>, pour afficher les coordonnées du vecteur variation de vitesse $\\overrightarrow{\\Delta v}_{1\\rightarrow 2}$.\n",
    "<br>\n",
    "<br>\n",
    "<details>\n",
    "<summary>Aide n°1</summary>\n",
    "<p>Les coordonnées des abscisses sont stockées dans une liste nommée $x$.Les coordonnées des ordonnées sont stockées dans une liste nommée $y$.</p>\n",
    "</details>\n",
    "<br>\n",
    "<details>\n",
    "<summary>Aide n°2</summary>\n",
    "<p>Les dates sont stockées dans une liste nommée $t$.</p>\n",
    "</details>\n",
    "<br>\n",
    "<details>\n",
    "<summary>Aide n°3</summary>\n",
    "    <p>Pour le vecteur variation de vitesse $\\overrightarrow{\\Delta v}_{1\\rightarrow 2}$, la valeur de i vaut $1$. </p>\n",
    "</details>\n",
    "<br>\n",
    "</div>\n"
   ]
  },
  {
   "cell_type": "code",
   "execution_count": null,
   "metadata": {},
   "outputs": [],
   "source": [
    "delta_vx=coordonnees_vecteur_variation_vitesse(---A COMPLETER---)[0]\n",
    "delta_vy=coordonnees_vecteur_variation_vitesse(---A COMPLETER---)[1]\n",
    "\n",
    "print(\"Entre les points M1 et M2, les coordonnées du vecteur variation de vitesse sont :\")\n",
    "print(\"∆vx =\",\"{:.1f}\".format(delta_vx),\" m/s.\" )\n",
    "print(\"∆vy =\",\"{:.1f}\".format(delta_vy),\" m/s.\" )"
   ]
  },
  {
   "cell_type": "markdown",
   "metadata": {},
   "source": [
    "<div class=\"alert alert-success\" role=\"alert\">\n",
    "Exécuter le bloc ci-dessous aprés avoir lu la description de la fonction (les 3 lignes en rouges).</div>"
   ]
  },
  {
   "cell_type": "code",
   "execution_count": null,
   "metadata": {},
   "outputs": [],
   "source": [
    "\"\"\"\n",
    "Fonction calculant les coordonnées du vecteur accélération instantanée approchée au point Mi\n",
    "Entrées : coordonnées des abscisses du point M, coordonnées des ordonnées du point M, dates t, valeur de i\n",
    "Résultat : coordonnées du vecteur accélération instantanée approchée au point Mi\n",
    "\"\"\"\n",
    "def coordonnees_vecteur_acceleration_approchee (abscisses,ordonnees,dates,value_i):\n",
    "    x=abscisses\n",
    "    y=ordonnees\n",
    "    t=dates\n",
    "    i=value_i\n",
    "    vx_i=(x[i+1]-x[i])/(t[i+1]-t[i])\n",
    "    vy_i=(y[i+1]-y[i])/(t[i+1]-t[i])\n",
    "    i=i+1\n",
    "    vx_j=(x[i+1]-x[i])/(t[i+1]-t[i])\n",
    "    vy_j=(y[i+1]-y[i])/(t[i+1]-t[i])\n",
    "    ax=(vx_j-vx_i)/(t[i+1]-t[i])\n",
    "    ay=(vy_j-vy_i)/(t[i+1]-t[i])\n",
    "    return[ax,ay]"
   ]
  },
  {
   "cell_type": "markdown",
   "metadata": {},
   "source": [
    "<div class=\"alert alert-warning\">\n",
    "<b>Travail à faire : </b> Compléter les lignes de code ci-dessous, en tenant compte des paramètres de la fonction <font color=red><i>coordonnees_vecteur_acceleration_approchee</i></font>, pour afficher les coordonnées du vecteur accélération instantanée approchée $\\overrightarrow{a_1}$.\n",
    "<br>\n",
    "<br>\n",
    "<details>\n",
    "<summary>Aide n°1</summary>\n",
    "<p>Les coordonnées des abscisses sont stockées dans une liste nommée $x$.Les coordonnées des ordonnées sont stockées dans une liste nommée $y$.</p>\n",
    "</details>\n",
    "<br>\n",
    "<details>\n",
    "<summary>Aide n°2</summary>\n",
    "<p>Les dates sont stockées dans une liste nommée $t$.</p>\n",
    "</details>\n",
    "<br>\n",
    "<details>\n",
    "<summary>Aide n°3</summary>\n",
    "    <p>Pour le vecteur accélération instantanée approchée $\\overrightarrow{a_1}$, la valeur de i vaut $1$. </p>\n",
    "</details>\n",
    "<br>\n",
    "</div>\n"
   ]
  },
  {
   "cell_type": "code",
   "execution_count": null,
   "metadata": {},
   "outputs": [],
   "source": [
    "ax=coordonnees_vecteur_acceleration_approchee(---A COMPLETER---)[0]\n",
    "ay=coordonnees_vecteur_acceleration_approchee(---A COMPLETER---)[1]\n",
    "\n",
    "print(\"Au point M1, les coordonnées du vecteur accélération instantanée approchée sont :\")\n",
    "print(\"ax(t1) =\",\"{:.1f}\".format(ax),\" m/s².\" )\n",
    "print(\"ay(t1) =\",\"{:.1f}\".format(ay),\" m/s².\" )"
   ]
  },
  {
   "cell_type": "markdown",
   "metadata": {},
   "source": [
    "<div class=\"alert alert-success\" role=\"alert\">\n",
    "Exécuter le bloc ci-dessous aprés avoir lu la description de la fonction (les 3 lignes en rouges).</div>"
   ]
  },
  {
   "cell_type": "code",
   "execution_count": null,
   "metadata": {},
   "outputs": [],
   "source": [
    "\"\"\"\n",
    "Fonction générant la construction du vecteur accélération au point Mi\n",
    "Entrées : coordonnées des abscisses du point M, coordonnées des ordonnées du point M, dates t, valeur de i, échelle\n",
    "Résultat : vecteur accélération ai\n",
    "\"\"\"\n",
    "def vecteur_acceleration_approchee (abscisses,ordonnees,dates,value_i,echelle):\n",
    "    x=abscisses\n",
    "    y=ordonnees\n",
    "    t=dates\n",
    "    i=value_i\n",
    "    numero_i=str(i)\n",
    "    vx_i=(x[i+1]-x[i])/(t[i+1]-t[i])\n",
    "    vy_i=(y[i+1]-y[i])/(t[i+1]-t[i])\n",
    "    i=i+1\n",
    "    vx_j=(x[i+1]-x[i])/(t[i+1]-t[i])\n",
    "    vy_j=(y[i+1]-y[i])/(t[i+1]-t[i])\n",
    "    ax=(vx_j-vx_i)/(t[i+1]-t[i])\n",
    "    ay=(vy_j-vy_i)/(t[i+1]-t[i])  \n",
    "    table = str.maketrans({str(j):chr(0x2080 + j) for j in range(10)})\n",
    "    indice_i=numero_i.translate(table)\n",
    "    df=max(max(x)-min(x),max(y)-min(y))/20\n",
    "    plt.quiver(x[i-1], y[i-1] ,ax, ay,scale_units='xy',angles='xy', scale=echelle, color='green',width=0.005)\n",
    "    plt.text(x[i-1]-df,y[i-1]-4*df,r\"$\\vec a$\"+indice_i, color='green',fontsize=20,\\\n",
    "    horizontalalignment='center', verticalalignment='center')"
   ]
  },
  {
   "cell_type": "markdown",
   "metadata": {},
   "source": [
    "<div class=\"alert alert-warning\">\n",
    "<b>Travail à faire : </b> Compléter les lignes de code ci-dessous, en tenant compte des paramètres de la fonction <font color=red><i>vecteur_acceleration_approchee</i></font>, pour afficher la représentation du vecteur accélération instantanée approchée $\\overrightarrow{a_1}$. Pour l'échelle, mettre la valeur $10$.\n",
    "<br>\n",
    "<br>\n",
    "<details>\n",
    "<summary>Aide n°1</summary>\n",
    "<p>Les coordonnées des abscisses sont stockées dans une liste nommée $x$.Les coordonnées des ordonnées sont stockées dans une liste nommée $y$.</p>\n",
    "</details>\n",
    "<br>\n",
    "<details>\n",
    "<summary>Aide n°2</summary>\n",
    "<p>Les dates sont stockées dans une liste nommée $t$.</p>\n",
    "</details>\n",
    "<br>\n",
    "<details>\n",
    "<summary>Aide n°3</summary>\n",
    "    <p>Pour le vecteur accélération instantanée approchée $\\overrightarrow{a_1}$, la valeur de i vaut $1$. </p>\n",
    "</details>\n",
    "<br>\n",
    "</div>\n"
   ]
  },
  {
   "cell_type": "code",
   "execution_count": null,
   "metadata": {},
   "outputs": [],
   "source": [
    "nuagedepoints(x,y,'x (en m)','y (en m)','')\n",
    "vecteur_acceleration_approchee(---A COMPLETER---)\n",
    "plt.show()"
   ]
  },
  {
   "cell_type": "markdown",
   "metadata": {},
   "source": [
    "## III-Valider\n",
    "<br>\n",
    "<div class=\"alert alert-warning\">\n",
    "<b>Travail à faire : </b> Compléter la boucle $for$ pour afficher la représentation des vecteurs accélérations instantanées approchées $\\overrightarrow{a_0}$, $\\overrightarrow{a_1}$ et $\\overrightarrow{a_2}$.\n",
    "<br>\n",
    "<br>\n",
    "<details>\n",
    "<summary>Aide</summary>\n",
    "<p>Dans la boucle $for \\ i \\ in \\ range(a,b,c)$, i prend les valeurs entières appartenant à l'intervalle [a;b[ avec un pas égal à c.</p>\n",
    "</details>\n",
    "<br>\n",
    "\n",
    "</div>\n"
   ]
  },
  {
   "cell_type": "code",
   "execution_count": null,
   "metadata": {},
   "outputs": [],
   "source": [
    "nuagedepoints(x,y,'x (en m)','y (en m)','')\n",
    "for i in range(---A COMPLETER---):\n",
    "    vecteur_acceleration_approchee(x,y,t,i,10)\n",
    "plt.show()"
   ]
  },
  {
   "cell_type": "code",
   "execution_count": null,
   "metadata": {},
   "outputs": [],
   "source": []
  }
 ],
 "metadata": {
  "kernelspec": {
   "display_name": "Python 3",
   "language": "python",
   "name": "python3"
  },
  "language_info": {
   "codemirror_mode": {
    "name": "ipython",
    "version": 3
   },
   "file_extension": ".py",
   "mimetype": "text/x-python",
   "name": "python",
   "nbconvert_exporter": "python",
   "pygments_lexer": "ipython3",
   "version": "3.7.6"
  }
 },
 "nbformat": 4,
 "nbformat_minor": 2
}
