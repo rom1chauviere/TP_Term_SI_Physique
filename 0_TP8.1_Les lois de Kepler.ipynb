{
 "cells": [
  {
   "cell_type": "markdown",
   "metadata": {},
   "source": [
    "# <center>Les lois de Kepler</center>\n",
    "\n",
    "\n",
    "\n",
    "<div class=\"alert alert-info\" role=\"alert\">\n",
    "Un notebook Jupyter est composé de deux types de cellules :<br>\n",
    "<ul><li> des cellules contenant du <b>texte</b> qu'il est nécessaire <b>de lire pour suivre correctement les consignes</b> ;</li><br>\n",
    "<li>des cellules contenant du <b>code Python</b> qu'il est nécessaire <b>d'éxécuter dans l'ordre d'apparition</b>.</li></ul><br>\n",
    "<br>\n",
    "<b>Pour exécuter une cellule sélectionnée</b> (encadrée en vert), il faut cliquer :<br>\n",
    "<ul><li>sur le bouton \"Exécuter\" situé à côté de la cellule<br><img src=\"Jupyter_Executer.bis.jpg\"></li><br>\n",
    "<li>ou sur le bouton \"Exécuter\" dans le bandeau supérieur.\n",
    "<br>\n",
    "<center><img src=\"Jupyter_Executer.jpg\"></center><br></li></ul>\n",
    "</div>\n",
    "<div class=\"alert alert-warning\">\n",
    "<b>Travail à faire : </b> Exécuter cette ligne de code en suivant les indications ci-dessus. Du texte est affecté à la variable \"a\".\n",
    "</div>"
   ]
  },
  {
   "cell_type": "code",
   "execution_count": null,
   "metadata": {},
   "outputs": [],
   "source": [
    "a=\"Hello World\""
   ]
  },
  {
   "cell_type": "markdown",
   "metadata": {},
   "source": [
    "<div class=\"alert alert-info\" role=\"alert\">\n",
    "Sur la gauche d'une cellule contenant du code Python, il y a l'indication <b>Entrée [&#160;&#160;]</b><br>\n",
    "<ul><li><b>Entrée [&#160;&#160;]</b> signifie que la cellule n'a pas été exécutée ;</li><br>\n",
    "<li><b>Entrée [*]</b> signifie que la cellule est en cours d'exécution. Soit il faut une action de votre part (saisie d'une valeur dans un <b>Input</b>, soit il faut donc patienter quelques secondes pour que tout le code s'exécute) ;</li><br>\n",
    "<li><b>Entrée [1]</b> signifie que la cellule a été exécutée au rang 1.</li></ul><br>\n",
    "<br>\n",
    "</div>\n",
    "<div class=\"alert alert-warning\">\n",
    "<b>Travail à faire : </b> Exécuter cette ligne de code qui permet d'afficher la valeur de la variable \"a\".\n",
    "</div>"
   ]
  },
  {
   "cell_type": "code",
   "execution_count": null,
   "metadata": {},
   "outputs": [],
   "source": [
    "print(a)"
   ]
  },
  {
   "cell_type": "markdown",
   "metadata": {},
   "source": [
    "<div class=\"alert alert-success\" role=\"alert\">\n",
    "<details>\n",
    "<summary><b>A LIRE (en cliquant sur la flèche à gauche)</b>: Explications pour sauvegarder vos modifications au fur et à mesure.</summary>\n",
    "<p>En cas d'inactivité prolongé (entre 5 et 10 min), le notebook Jupyter sera déconnecté.<br>\n",
    "<img src=\"Jupyter_deconnected.jpg\"><br>\n",
    "Pour éviter de perdre vos modifications de code, enregistrez régulièrement votre notebook dans votre navigateur.<br>\n",
    "<img src=\"Jupyter_save.jpg\"><br>\n",
    "Le message suivant s'affiche :\n",
    "<img src=\"Jupyter_save_2.jpg\"><br>\n",
    "En cas de déconnexion, vous devez réouvrir votre notebook puis vous pouvez charger votre sauvegarde.<br>\n",
    "<img src=\"Jupyter_open.jpg\"><br>\n",
    "Le message suivant s'affiche et vous devez cliquer sur \"OK\" :\n",
    "<img src=\"Jupyter_open_2.jpg\"><br>\n",
    "Vous devez exécuter toutes les cellules modifiées depuis le début. Pour le faire rapidement, il faut cliquer sur \"Restart & Run all\" dans le menu Kernel.<br>\n",
    "<img src=\"Jupyter_restart.jpg\"><br></p>\n",
    "Le message suivant s'affiche et vous devez cliquer sur \"Restart & Run All Cells\" :\n",
    "<img src=\"Jupyter_restart_2.jpg\"><br>\n",
    "</details>\n",
    "</div>\n",
    "\n",
    "<div class=\"alert alert-danger\" role=\"alert\">\n",
    "<center><font size=\"5\">Ne modifier que la partie du code contenant ---A COMPLETER---</font></center>\n",
    "</div>"
   ]
  },
  {
   "cell_type": "markdown",
   "metadata": {},
   "source": [
    "## 1-Coordonnées de la Terre durant une révolution autour du Soleil dans le référentiel héliocentrique\n",
    "\n",
    "<div class=\"alert alert-success\" role=\"alert\">\n",
    "Exécuter le bloc ci-dessous. Pour la suite, il sera nécessaire de respecter la notation des différentes variables.</div>"
   ]
  },
  {
   "cell_type": "code",
   "execution_count": null,
   "metadata": {},
   "outputs": [],
   "source": [
    "# Dates t de la Terre (en jours)\n",
    "t_T=[0.0, 18.25, 36.5, 54.75, 73.0, 91.25, 109.5, 127.75, 146.0, 164.25, 182.5, 200.75, 219.0, 237.25, 255.5, 273.75, 292.0, 310.25, 328.5, 346.75]\n",
    "\n",
    "# Coordonnées cartésiennes x(t) et y(t) de la Terre (en mètres)\n",
    "x_T=[147100151088.0, 139533682498.273, 117647640604.035, 83772434550.431, 41450712325.434, -4999232622.266, -50972159056.259, -92044709537.433, -124375211801.218, -145011041729.039, -152099848912.0, -145011041729.039, -124375211801.218, -92044709537.433, -50972159056.259, -4999232622.266, 41450712325.434, 83772434550.431, 117647640604.035, 139533682498.273]\n",
    "y_T=[0.0, 46968284969.372, 89120830008.992, 122200990811.439, 142978314090.909, 149558234747.614, 141509723966.595, 119824319933.542, 86743612269.03, 45498810003.485, 0.0, -45498810003.485, -86743612269.03, -119824319933.542, -141509723966.595, -149558234747.614, -142978314090.909, -122200990811.44, -89120830008.992, -46968284969.372]"
   ]
  },
  {
   "cell_type": "markdown",
   "metadata": {},
   "source": [
    "<div class=\"alert alert-success\" role=\"alert\">\n",
    "Exécuter le bloc ci-dessous pour afficher la trajectoire elliptique de la Terre autour du Soleil.<br><br>\n",
    "<i>Information : plt.scatter permet d'afficher plusieurs nuages de points sur un même graphique contraitement à plt.plot. <\\i></div>"
   ]
  },
  {
   "cell_type": "code",
   "execution_count": null,
   "metadata": {},
   "outputs": [],
   "source": [
    "import matplotlib.pyplot as plt\n",
    "\n",
    "plt.rcParams['figure.figsize'] = [10, 10] # taille du graphique\n",
    "plt.xlabel(\"Coordonnées x (en m)\")\n",
    "plt.ylabel(\"Coordonnées y (en m)\")\n",
    "plt.title(\"Trajectoire de la Terre autour du Soleil\")\n",
    "plt.scatter(x_T,y_T,marker='+') # affichage du nuage de points x en fonction de y\n",
    "\n",
    "# Affichage de la position du Soleil (correspondant à l'origine du repère d'espace)\n",
    "plt.scatter(0,0,marker='x',color='black')\n",
    "plt.text(0,min(y_T)/10,'S',color='black', horizontalalignment='center', verticalalignment='center')\n",
    "\n",
    "plt.show()"
   ]
  },
  {
   "cell_type": "markdown",
   "metadata": {},
   "source": [
    "## 2-La 2e loi de Kepler (ou loi des aires)\n",
    "\n",
    "Le mouvement de chaque planète (notée P) autour de Soleil (notée S) est tel que, pendant des durées égales, les aires balayées par le segment [SM] sont égales.\n",
    "\n",
    "\n",
    "<div class=\"alert alert-success\" role=\"alert\">\n",
    "Exécuter le bloc ci-dessous aprés avoir lu la description de la fonction (les 3 lignes en rouges).\n",
    "</div>"
   ]
  },
  {
   "cell_type": "code",
   "execution_count": null,
   "metadata": {},
   "outputs": [],
   "source": [
    "import numpy as np\n",
    "\n",
    "\"\"\"\n",
    "Fonction affichant et calculant de façon approchée l'aire balayée par le segment [SP] durant un intervalle de temps\n",
    "Entrées : coordonnées des abscisses, coordonnées des ordonnées\n",
    "Résultat : affiche l'aire balayée et indique sa valeur en légende\n",
    "\"\"\"\n",
    "def aire(x,y):  \n",
    "    alpha=np.arctan2(y[i+1],x[i+1])-np.arctan2(y[i],x[i])\n",
    "    r1=np.sqrt(x[i]**2+y[i]**2)\n",
    "    r2=np.sqrt(x[i+1]**2+y[i+1]**2)\n",
    "    A=abs(r1*r2*np.sin(alpha)/2)\n",
    "    plt.fill([x[i+1],x[i],0],[y[i+1],y[i],0], label=\"A = \"+\"%.2e\"%A +\" m²\")"
   ]
  },
  {
   "cell_type": "markdown",
   "metadata": {},
   "source": [
    "<div class=\"alert alert-warning\">\n",
    "<b>Travail à faire : </b>Compléter la ligne de code ci-dessous en tenant compte des paramètres de la fonction <font color=red><i>aire</i></font>.\n",
    "<br>\n",
    "<br>\n",
    "<details>\n",
    "<summary>Aide</summary>\n",
    "<p>Les coordonnées des abscisses sont stockées dans une liste nommée x_T pour la Terre.Les coordonnées des ordonnées sont stockées dans une liste nommée y_T pour la Terre.</p>\n",
    "</details>\n",
    "<br>\n",
    "</div>\n"
   ]
  },
  {
   "cell_type": "code",
   "execution_count": null,
   "metadata": {},
   "outputs": [],
   "source": [
    "# Affichage de la trajectoire de la Terre autour du Soleil\n",
    "plt.rcParams['figure.figsize'] = [10, 10] # taille du graphique\n",
    "plt.xlabel(\"Coordonnées x (en m)\")\n",
    "plt.ylabel(\"Coordonnées y (en m)\")\n",
    "plt.title(\"Trajectoire de la Terre autour du Soleil\")\n",
    "plt.scatter(x_T,y_T,marker='+') # affichage du nuage de points x en fonction de y\n",
    "plt.scatter(0,0,marker='x',color='black')\n",
    "plt.text(0,min(y_T)/10,'S',color='black', horizontalalignment='center', verticalalignment='center')\n",
    "\n",
    "\n",
    "# Affichage de l'aire balayée par le segment [SP] entre les positions (P0;P1), (P7;P8) et (P14;P15)\n",
    "for i in range(0,20,7):\n",
    "    aire(---A COMPLETER---)\n",
    "\n",
    "plt.legend()\n",
    "plt.show()"
   ]
  },
  {
   "cell_type": "markdown",
   "metadata": {},
   "source": [
    "<div class=\"alert alert-warning\">\n",
    "<b>Travail à faire : </b> Copier-coller le code de la cellule précédente et modifier-le pour afficher la trajectoire de Mars autour du Soleil ainsi que l'aire balayée par le segment [SP] entre les positions (P0;P1), (P7;P8) et (P14;P15).\n",
    "<br>\n",
    "<br>\n",
    "<details>\n",
    "<summary>Aide</summary>\n",
    "<p>Les coordonnées des abscisses sont stockées dans une liste nommée x_M pour Mars.Les coordonnées des ordonnées sont stockées dans une liste nommée y_M pour Mars.</p>\n",
    "</details>\n",
    "<br>\n",
    "</div>"
   ]
  },
  {
   "cell_type": "code",
   "execution_count": null,
   "metadata": {},
   "outputs": [],
   "source": [
    "# Dates t de Mars (en jours)\n",
    "t_M=[0, 34.35, 68.7, 103.05, 137.4, 171.75, 206.1, 240.45, 274.8, 309.15, 343.5, 377.85, 412.2, 446.55, 480.9, 515.25, 549.6, 583.95, 618.3, 652.65]\n",
    "\n",
    "# Coordonnées cartésiennes x(t) et y(t) de Mars (en mètres)\n",
    "x_M=[207480000000.0, 194079135833.898, 156007360816.98, 98977127190.312, 30672051991.629, -40930256478.804, -108709391292.146, -166932015996.362, -211350021272.386, -239093990760.902, -248520000000.0, -239093990760.902, -211350021272.386, -166932015996.363, -108709391292.146, -40930256478.804, 30672051991.629, 98977127190.312, 156007360816.98, 194079135833.898]\n",
    "y_M=[0, 76701812827.725, 143713019406.175, 193388289864.865, 221277044640.88, 226163050290.897, 209400471705.023, 174069200742.546, 124265051269.587, 64616672285.829, 0.0, -64616672285.829, -124265051269.587, -174069200742.546, -209400471705.023, -226163050290.897, -221277044640.88, -193388289864.865, -143713019406.175, -76701812827.725]\n",
    "\n",
    "\n",
    "# Affichage de la trajectoire de Mars autour du Soleil\n",
    "---A COMPLETER---\n",
    "\n",
    "# Affichage de l'aire balayée par le segment [SP] entre les positions (P0;P1), (P7;P8) et (P14;P15)\n",
    "---A COMPLETER---"
   ]
  },
  {
   "cell_type": "markdown",
   "metadata": {},
   "source": [
    "<div class=\"alert alert-warning\">\n",
    "<b>Travail à faire : </b> Copier-coller le code de la cellule précédente et modifier-le pour afficher la trajectoire de Pluton autour du Soleil ainsi que l'aire balayée par le segment [SP] entre les positions (P0;P1), (P7;P8) et (P14;P15).\n",
    "<br>\n",
    "<br>\n",
    "<details>\n",
    "<summary>Aide</summary>\n",
    "<p>Les coordonnées des abscisses sont stockées dans une liste nommée x_P pour Pluton.Les coordonnées des ordonnées sont stockées dans une liste nommée y_P pour Pluton.</p>\n",
    "</details>\n",
    "<br>\n",
    "</div>"
   ]
  },
  {
   "cell_type": "code",
   "execution_count": null,
   "metadata": {},
   "outputs": [],
   "source": [
    "# Dates t de Pluton (en jours)\n",
    "t_P=[0, 4524.35, 9048.7, 13573.05, 18097.4, 22621.75, 27146.1, 31670.45, 36194.8, 40719.15, 45243.5, 49767.85, 54292.2, 58816.55, 63340.9, 67865.25, 72389.6, 76913.95, 81438.3, 85962.65]\n",
    "\n",
    "# Coordonnées cartésiennes x(t) et y(t) de Pluton (en mètres)\n",
    "x_P=[4425750000000.0, 3924984832464.219, 2596627886639.889, 810983580798.671, -1093827292772.147, -2893259072204.531, -4457774064347.456, -5717055943318.212, -6634100525847.755, -7190079399438.293, -7376250000000.0, -7190079399438.293, -6634100525847.757, -5717055943318.214, -4457774064347.459, -2893259072204.533, -1093827292772.15, 810983580798.667, 2596627886639.889, 3924984832464.219]\n",
    "y_P=[0, 2303380278438.656, 4135397291557.941, 5267376334632.994, 5701670620178.817, 5546202355368.856, 4930106921278.591, 3972037025321.944, 2773996820692.629, 1423856756966.274, 0.001, -1423856756966.275, -2773996820692.628, -3972037025321.943, -4930106921278.589, -5546202355368.856, -5701670620178.817, -5267376334632.995, -4135397291557.941, -2303380278438.656]\n",
    "\n",
    "# Affichage de la trajectoire de Pluton autour du Soleil\n",
    "---A COMPLETER---\n",
    "\n",
    "# Affichage de l'aire balayée par le segment [SP] entre les positions (P0;P1), (P7;P8) et (P14;P15)\n",
    "---A COMPLETER---"
   ]
  },
  {
   "cell_type": "markdown",
   "metadata": {},
   "source": [
    "## 3-La 3e loi de Kepler (ou loi des périodes)\n",
    "\n",
    "Le carré de la période de révolution $T$ d’une planète autour du Soleil est proportionnel au cube du demi grand axe $a$ de l’ellipse.<br>\n",
    "<center>$T^2 \\ = \\ k \\ \\times a^3$</center>\n",
    "<br>\n",
    "On peut aussi l'écrire :<br>\n",
    "<center>$\\frac{T^2}{a^3}=k \\ ou \\ \\frac{a^3}{T^2}=k_1 \\ avec \\ k_1 \\ = \\ \\frac{1}{k} $</center><br>\n",
    "<center><img src=\"systeme_solaire.jpg\"></center>\n",
    "\n",
    "<div class=\"alert alert-success\" role=\"alert\">\n",
    "Exécuter le bloc ci-dessous. Pour la suite, il sera nécessaire de respecter la notation des différentes variables.</div>"
   ]
  },
  {
   "cell_type": "code",
   "execution_count": null,
   "metadata": {},
   "outputs": [],
   "source": [
    "# Demi grand axe a en unité astronomique (1 ua = 149 597 870 700 m soit la distance moyenne Terre-Soleil)\n",
    "a=[0.3871,0.7233,1.000,1.5237,5.2026,9.5547,19.218,30.109]\n",
    "\n",
    "# Période T en années\n",
    "T=[0.2408,0.6152,1.000,1.8808,11.862,29.457,84.020,167.77]"
   ]
  },
  {
   "cell_type": "markdown",
   "metadata": {},
   "source": [
    "<div class=\"alert alert-warning\">\n",
    "<b>Travail à faire : </b> Compléter les lignes de code ci-dessous pour calculer le carré de la période de chaque planète.\n",
    "<br>\n",
    "<br>\n",
    "<details>\n",
    "<summary>Aide n°1</summary>\n",
    "<p>Les périodes sont stockées dans une liste nommée $T$. La première valeur de la liste correspond à T[0], la suivante correspond à T[1], etc.</p>\n",
    "</details>\n",
    "<br>\n",
    "<details>\n",
    "<summary>Aide n°2</summary>\n",
    "    <p>$x^2$ s'écrit $x**2$.</p>\n",
    "</details>\n",
    "<br>\n",
    "</div>\n"
   ]
  },
  {
   "cell_type": "code",
   "execution_count": null,
   "metadata": {},
   "outputs": [],
   "source": [
    "T_2=[]\n",
    "\n",
    "for i in range (len(---A COMPLETER---)): # len() permet de connaître la longueur d'une liste\n",
    "    T_2.append(---A COMPLETER---)\n",
    "    \n",
    "print(T_2)"
   ]
  },
  {
   "cell_type": "markdown",
   "metadata": {},
   "source": [
    "<div class=\"alert alert-warning\">\n",
    "<b>Travail à faire : </b> Compléter les lignes de code ci-dessous pour calculer le cube du demi grand axe de chaque planète.\n",
    "<br>\n",
    "<br>\n",
    "<details>\n",
    "<summary>Aide n°1</summary>\n",
    "<p>Les demi grands axes sont stockées dans une liste nommée $a$. La première valeur de la liste correspond à a[0], la suivante correspond à a[1], etc.</p>\n",
    "</details>\n",
    "<br>\n",
    "<details>\n",
    "<summary>Aide n°2</summary>\n",
    "    <p>$x^3$ s'écrit $x**3$.</p>\n",
    "</details>\n",
    "<br>\n",
    "</div>\n"
   ]
  },
  {
   "cell_type": "code",
   "execution_count": null,
   "metadata": {},
   "outputs": [],
   "source": [
    "a_3=[]\n",
    "\n",
    "for i in range (len(---A COMPLETER---)): # len() permet de connaître la longueur d'une liste\n",
    "    a_3.append(---A COMPLETER---)\n",
    "    \n",
    "print(a_3)"
   ]
  },
  {
   "cell_type": "markdown",
   "metadata": {},
   "source": [
    "<div class=\"alert alert-success\" role=\"alert\">\n",
    "Exécuter le bloc ci-dessous aprés avoir lu la description de la fonction (les 3 lignes en rouges).\n",
    "</div>"
   ]
  },
  {
   "cell_type": "code",
   "execution_count": null,
   "metadata": {},
   "outputs": [],
   "source": [
    "\"\"\"\n",
    "Fonction générant le nuage de points \"ordonnée en fonction d'abscisse\"\n",
    "Entrées : coordonnées des abscisses, coordonnées des ordonnées, titre abscisse, titre ordonnée, titre graphique\n",
    "Résultat : nuage de points \"ordonnée en fonction d'abscisse\" ou \"ordonnée = f(abscisse)\"\n",
    "\"\"\"\n",
    "def nuagedepoints(abscisses,ordonnees,abscisse_title,ordonnee_title,title):\n",
    "    plt.rcParams['figure.figsize'] = [10, 10]\n",
    "                            # taille de l'affichage du graphique\n",
    "    plt.plot(abscisses, ordonnees, linestyle=\"none\" ,marker=\"x\" ,color=\"red\", markersize=\"10\",label=\"nuage de points\")\n",
    "                            # nuage de points,'none' points non reliés,'x' forme des points (o,-,+,s)\n",
    "                            # 'red' couleur (blue, green, cyan, magenta, yellow, black)\n",
    "                            # '10' taille des points\n",
    "                            # affiche la légende\n",
    "    plt.xlim(0,1.1*max(abscisses))\n",
    "    plt.ylim(0,1.1*max(ordonnees))\n",
    "    plt.xlabel(abscisse_title)      # légende axe des abscisses\n",
    "    plt.ylabel(ordonnee_title)      # légende axe des ordonnées\n",
    "    plt.legend()            # affiche la légende\n",
    "    plt.title(title)        # affiche un titre"
   ]
  },
  {
   "cell_type": "markdown",
   "metadata": {},
   "source": [
    "<div class=\"alert alert-warning\" role=\"alert\">\n",
    "Après avoir compris le fonctionnement de la fonction <font color=red><i>nuagedepoints</i></font>, compléter la 1ère ligne de code ci-dessous pour afficher le graphique représentant $T^2$ en fonction de $a^3$.\n",
    "<br>\n",
    "<br>\n",
    "<details>\n",
    "<summary>Aide</summary>\n",
    "<p>Les coordonnées des abscisses sont stockées dans une liste nommée a_3.Les coordonnées des ordonnées sont stockées dans une liste nommée T_2.</p>\n",
    "</details>\n",
    "<br>\n",
    "\n",
    "</div>"
   ]
  },
  {
   "cell_type": "code",
   "execution_count": null,
   "metadata": {},
   "outputs": [],
   "source": [
    "nuagedepoints(---A COMPLETER---,---A COMPLETER---,\"demi grand axe au cube (en $ua^3$)\",\"période au carré (en $année^2$)\",\"$T^2$ en fonction de $a^3$ pour le système solaire\")\n",
    "\n",
    "plt.show() # affiche le graphique"
   ]
  },
  {
   "cell_type": "markdown",
   "metadata": {},
   "source": [
    "<div class=\"alert alert-success\" role=\"alert\">\n",
    "Exécuter le bloc ci-dessous aprés avoir lu la description de la fonction (les 3 lignes en rouges).\n",
    "</div>"
   ]
  },
  {
   "cell_type": "code",
   "execution_count": null,
   "metadata": {},
   "outputs": [],
   "source": [
    "\"\"\"\n",
    "Fonction effectuant la régression linéaire d'un nuage de points \n",
    "Entrées : coordonnées des abscisses, coordonnées des ordonnées\n",
    "Résultat : liste contenant le coefficient directeur a et l'ordonnée à l'origine b\n",
    "\"\"\"\n",
    "\n",
    "def regression(abscisses,ordonnees):\n",
    "    return np.polyfit(abscisses,ordonnees,1) # création de la liste des abscisses"
   ]
  },
  {
   "cell_type": "markdown",
   "metadata": {},
   "source": [
    "<div class=\"alert alert-warning\" role=\"alert\">\n",
    "Après avoir compris le fonctionnement de la fonction <font color=red><i>regression</i></font>, compléter la ligne de code ci-dessous pour afficher le coefficient directeur a et l'ordonnée à l'origine b.\n",
    "<br>\n",
    "<br>\n",
    "<details>\n",
    "<summary>Aide n°1</summary>\n",
    "<p>Les coordonnées des abscisses sont stockées dans une liste nommée a_3.Les coordonnées des ordonnées sont stockées dans une liste nommée T_2.</p>\n",
    "</details><br>\n",
    "<details>\n",
    "<summary>Aide n°2</summary>\n",
    "<p>La fonction retourne une liste de deux valeurs.</p>\n",
    "</details>\n",
    "</div>"
   ]
  },
  {
   "cell_type": "code",
   "execution_count": null,
   "metadata": {},
   "outputs": [],
   "source": [
    "coefficients=regression(---A COMPLETER---)\n",
    "\n",
    "print(\"Le coefficient directeur a vaut\",\"%.3f\"%coefficients[0],\"années².ua⁻³.\")\n",
    "print(\"L'ordonnée à l'origine b vaut\",\"%.3f\"%coefficients[1],\"années².\")"
   ]
  },
  {
   "cell_type": "markdown",
   "metadata": {},
   "source": [
    "<div class=\"alert alert-success\" role=\"alert\">\n",
    "Exécuter le bloc ci-dessous aprés avoir lu la description de la fonction (les 3 lignes en rouges).\n",
    "</div>"
   ]
  },
  {
   "cell_type": "code",
   "execution_count": null,
   "metadata": {},
   "outputs": [],
   "source": [
    "\"\"\"\n",
    "Fonction générant, de 0 à xmax, une fonction affine y=f(x) de coefficient directeur a et d'ordonnée à l'origine b\n",
    "Entrées : coefficient directeur a, ordonnée à l'origine b, valeur maximale pour les abscisses\n",
    "Résultat : fonction affine de coefficient directeur a d'ordonnée à l'origine b jusqu'à l'abscisse xmax\n",
    "\"\"\"\n",
    "\n",
    "def modele_affine(a,b,xmax):\n",
    "    abscisses=[] # création de la liste des abscisses\n",
    "    ordonnees=[] # création de la liste des ordonnées\n",
    "    x=0 # première valeur des abscisses\n",
    "    for i in range(2) :\n",
    "        y=a*x+b # calcul de l'image (valeur de y) de la fonction affine\n",
    "        abscisses.append(x) # la valeur de x est ajoutée à la fin de la liste des abscisses\n",
    "        ordonnees.append(y) # la valeur de y est ajoutée à la fin de la liste des ordonnées\n",
    "        x=x+xmax\n",
    "    plt.plot(abscisses,ordonnees,linestyle='-',linewidth=\"1\",color=\"blue\",label=\"modèle : y = {:.3f} * x + {:.3f}\".format(a,b))\n",
    "    #\"-\" forme de la courbe, \"1\" épaisseur de la courbe,\n",
    "    #\"blue\" couleur (red, green, cyan, magenta, yellow, black),\n",
    "    # affiche la légende contenant les valeurs de a et b avec 2 chiffres après la virgule\n",
    "    plt.legend()"
   ]
  },
  {
   "cell_type": "markdown",
   "metadata": {},
   "source": [
    "<div class=\"alert alert-warning\" role=\"alert\">\n",
    "En utilisant les fonctions vues précédemment, compléter les lignes de code ci-dessous pour tracer le nuage de points et son modèle en utilisant les valeurs de la régression.\n",
    "<br>\n",
    "<br>\n",
    "<details>\n",
    "<summary>Aide n°1</summary>\n",
    "<p>Il faut tracer le nuage de points $T^2 \\ = \\ f(a^3)$.</p>\n",
    "</details><br>\n",
    "<details>\n",
    "<summary>Aide n°2</summary>\n",
    "<p>Il faut tracer le modèle en utilisant les coefficients calculés précédemment (coefficients[0] et coefficients[1]).</p>\n",
    "</details>\n",
    "</div>"
   ]
  },
  {
   "cell_type": "code",
   "execution_count": null,
   "metadata": {},
   "outputs": [],
   "source": [
    "nuagedepoints(---A COMPLETER---,---A COMPLETER---,\"demi grand axe au cube (en $ua^3$)\",\"période au carré (en $année^2$)\",\"$T^2$ en fonction de $a^3$ pour le système solaire\")\n",
    "modele_affine(---A COMPLETER---,---A COMPLETER---,max(---A COMPLETER---)) # max() renvoie la valeur maximale d'une liste''' \n",
    "\n",
    "plt.show()"
   ]
  }
 ],
 "metadata": {
  "kernelspec": {
   "display_name": "Python 3",
   "language": "python",
   "name": "python3"
  },
  "language_info": {
   "codemirror_mode": {
    "name": "ipython",
    "version": 3
   },
   "file_extension": ".py",
   "mimetype": "text/x-python",
   "name": "python",
   "nbconvert_exporter": "python",
   "pygments_lexer": "ipython3",
   "version": "3.7.6"
  }
 },
 "nbformat": 4,
 "nbformat_minor": 2
}
